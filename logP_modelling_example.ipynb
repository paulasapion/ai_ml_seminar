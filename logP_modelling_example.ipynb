{
 "cells": [
  {
   "cell_type": "markdown",
   "metadata": {},
   "source": [
    "# LogP Modelling\n",
    "<br>\n",
    "by Dmitri Stepanov"
   ]
  },
  {
   "cell_type": "code",
   "execution_count": null,
   "metadata": {
    "slideshow": {
     "slide_type": "skip"
    }
   },
   "outputs": [],
   "source": [
    "import numpy as np\n",
    "from scipy.optimize import curve_fit\n",
    "\n",
    "from sklearn import datasets, linear_model\n",
    "from sklearn.metrics import mean_squared_error, r2_score\n",
    "from sklearn.linear_model import Ridge\n",
    "from sklearn.preprocessing import PolynomialFeatures\n",
    "from sklearn.pipeline import make_pipeline\n",
    "from sklearn.model_selection import train_test_split\n",
    "\n",
    "import pandas as pd\n",
    "\n",
    "from sklearn.metrics import mean_squared_error\n",
    "from sklearn.metrics import mean_absolute_error\n",
    "from sklearn.model_selection import cross_val_score\n",
    "\n",
    "from sklearn.linear_model import Ridge\n",
    "from sklearn.linear_model import LinearRegression\n",
    "from sklearn.tree import DecisionTreeRegressor\n",
    "from sklearn.ensemble import AdaBoostRegressor\n",
    "from sklearn.ensemble import GradientBoostingRegressor\n",
    "from sklearn.svm import SVR\n",
    "from sklearn.ensemble import RandomForestRegressor\n",
    "\n",
    "from bokeh.io import output_notebook\n",
    "from bokeh.resources import INLINE\n",
    "from bokeh.plotting import figure, output_file, show\n",
    "output_notebook(resources=INLINE)\n",
    "\n",
    "import warnings\n",
    "warnings.filterwarnings('ignore')\n",
    "\n",
    "\n",
    "def data_no_noise(x, a, b, c):\n",
    "    return a * np.exp(-b * x) + c\n",
    "\n",
    "x_1 = np.linspace(0, 4, 50)\n",
    "y_1 = data_no_noise(x_1, 2.5, 1.3, 0.5)\n",
    "\n",
    "def plot_linear():\n",
    "    p = figure(plot_width=600, plot_height=600, x_axis_label='x', y_axis_label='y', tools=\"pan,wheel_zoom,reset\")\n",
    "    p.circle(x_1, y_1, legend_label=\"\", fill_color=\"#1f78b4\",\n",
    "             line_color=\"#1f78b4\", size=4, fill_alpha=0.2)\n",
    "    p.output_backend = \"svg\"\n",
    "    return show(p)\n",
    "\n",
    "y_noise = 0.2 * np.random.normal(size=x_1.size)\n",
    "y_2 = y_1 + y_noise\n",
    "\n",
    "def plot_linear_wnoise():\n",
    "    p = figure(plot_width=600, plot_height=600, x_axis_label='x', y_axis_label='y', tools=\"pan,wheel_zoom,reset\")\n",
    "    p.circle(x_1, y_2, legend_label=\"\", fill_color=\"#1f78b4\", line_color=\"#1f78b4\", size=4, fill_alpha=0.2)\n",
    "    p.output_backend = \"svg\"\n",
    "    return show(p)\n",
    "\n",
    "def cerate_poly_model(degree):\n",
    "    model = make_pipeline(PolynomialFeatures(degree), Ridge())\n",
    "    model.fit(x_1.reshape(50,1), y_2.reshape(50,1))\n",
    "    y_pred_poly = model.predict(x_1.reshape(50,1))\n",
    "    return y_pred_poly\n",
    "\n",
    "def plot_poly_model(degree):\n",
    "    y_data = cerate_poly_model(degree)\n",
    "    p = figure(plot_width=600, plot_height=600, x_axis_label='x', y_axis_label='y', tools=\"pan,wheel_zoom,reset\")\n",
    "    p.line(x_1, y_data.ravel(), legend_label=\"\", line_color=\"#ef8a62\")\n",
    "    p.circle(x_1, y_2, legend_label=\"\", fill_color=\"#1f78b4\", line_color=\"#1f78b4\", size=4, fill_alpha=0.2)\n",
    "    p.output_backend = \"svg\"\n",
    "    return show(p)\n",
    "\n",
    "hsdb_data= pd.read_csv('data/hsdb_data_with_descriptors.csv', index_col=0)\n",
    "\n",
    "def create_model(train_data, train_y, test_data, test_y, selected_model):\n",
    "    '''fit a single model, test RMSE and MAE\n",
    "    NB! evaluation with predictions rounded to 3 decimals !'''\n",
    "    model = selected_model\n",
    "    \n",
    "    fitted_model = model.fit(train_data, train_y.values.ravel()) # changed\n",
    "    print ('{}\\n\\t\\t\\t...done '.format(model))\n",
    "    \n",
    "    cross_validation(train_data, train_y, selected_model)\n",
    "    \n",
    "    model_predictions = np.around(fitted_model.predict(test_data), decimals= 3)\n",
    "\n",
    "    model_mse = mean_squared_error(test_y, model_predictions)\n",
    "    model_rmse = np.sqrt(model_mse)\n",
    "    model_r2= r2_score(test_y, model_predictions)  \n",
    "    print ('----> RMSE= \\t\\t{}'.format(model_rmse))\n",
    "\n",
    "    model_mae = mean_absolute_error(test_y, model_predictions)\n",
    "    print ('----> MAE= \\t\\t{}'.format(model_mae))\n",
    "    print ('----> R^2= \\t\\t{}'.format(model_r2))\n",
    "    return fitted_model\n",
    "\n",
    "def cross_validation(train_data, train_y, model):\n",
    "    print ('performing cross validation...')\n",
    "    scores = cross_val_score(model, train_data, train_y.values.ravel(),\n",
    "                                         scoring=\"neg_mean_squared_error\", cv=10) # changed\n",
    "    print ('\\t\\t\\t...done')\n",
    "    rmse_scores = np.sqrt(-scores)\n",
    "    print ('CV RMSE scores:{}\\t SD={}'.format(rmse_scores, rmse_scores.std()))\n",
    "    print ('----> CV RMSE mean=\\t{}'.format(rmse_scores.mean()))\n",
    "    \n",
    "def create_models(train_data, train_y, test_data, test_y, models_task):\n",
    "    '''fir many models, use models_task dictionary for selection'''\n",
    "    for key, value in models_task.iteritems():\n",
    "        print ('training {}...'.format(key))\n",
    "        key = create_model(train_data, train_y, test_data, test_y, value)\n",
    "        print ('\\n\\n')\n",
    "        #return model\n",
    "        "
   ]
  },
  {
   "cell_type": "markdown",
   "metadata": {
    "slideshow": {
     "slide_type": "slide"
    }
   },
   "source": [
    "# Generating data\n",
    "<br>\n",
    "$y= 2.5e^{-1.3x}+0.5$ (unknown)"
   ]
  },
  {
   "cell_type": "code",
   "execution_count": null,
   "metadata": {},
   "outputs": [],
   "source": [
    "plot_linear()"
   ]
  },
  {
   "cell_type": "markdown",
   "metadata": {
    "slideshow": {
     "slide_type": "slide"
    }
   },
   "source": [
    "# Adding noise\n",
    "### does not represent all possible data points!"
   ]
  },
  {
   "cell_type": "code",
   "execution_count": null,
   "metadata": {},
   "outputs": [],
   "source": [
    "plot_linear_wnoise()"
   ]
  },
  {
   "cell_type": "markdown",
   "metadata": {
    "slideshow": {
     "slide_type": "slide"
    }
   },
   "source": [
    "# Simple linear regression\n",
    "### create model"
   ]
  },
  {
   "cell_type": "code",
   "execution_count": null,
   "metadata": {},
   "outputs": [],
   "source": [
    "plot_poly_model(1)"
   ]
  },
  {
   "cell_type": "markdown",
   "metadata": {
    "slideshow": {
     "slide_type": "slide"
    }
   },
   "source": [
    "# More complex model\n",
    "### (Second degree polynomial)"
   ]
  },
  {
   "cell_type": "code",
   "execution_count": null,
   "metadata": {},
   "outputs": [],
   "source": [
    "plot_poly_model(2)"
   ]
  },
  {
   "cell_type": "markdown",
   "metadata": {
    "slideshow": {
     "slide_type": "slide"
    }
   },
   "source": [
    "# More complex model\n",
    "### (10th degree polynomial)"
   ]
  },
  {
   "cell_type": "code",
   "execution_count": null,
   "metadata": {},
   "outputs": [],
   "source": [
    "plot_poly_model(10)"
   ]
  },
  {
   "cell_type": "markdown",
   "metadata": {
    "slideshow": {
     "slide_type": "slide"
    }
   },
   "source": [
    "# Even more complex model\n",
    "\n",
    "### (40th degree polynomial)"
   ]
  },
  {
   "cell_type": "code",
   "execution_count": null,
   "metadata": {},
   "outputs": [],
   "source": [
    "plot_poly_model(40)"
   ]
  },
  {
   "cell_type": "markdown",
   "metadata": {
    "slideshow": {
     "slide_type": "slide"
    }
   },
   "source": [
    "# Example: modelling logP values"
   ]
  },
  {
   "cell_type": "code",
   "execution_count": null,
   "metadata": {
    "scrolled": true
   },
   "outputs": [],
   "source": [
    "hsdb_data[0:20]"
   ]
  },
  {
   "cell_type": "markdown",
   "metadata": {
    "slideshow": {
     "slide_type": "slide"
    }
   },
   "source": [
    "# Training / test split"
   ]
  },
  {
   "cell_type": "code",
   "execution_count": null,
   "metadata": {},
   "outputs": [],
   "source": [
    "generated_features= list(hsdb_data.columns)\n",
    "generated_features.remove('NameOfSubstance')\n",
    "generated_features.remove('hsdb_log_kow')\n",
    "\n",
    "train_set, test_set = train_test_split(hsdb_data, test_size=0.2, random_state=42)\n",
    "train_data= train_set[generated_features]\n",
    "train_logp= train_set[['hsdb_log_kow']]\n",
    "test_data= test_set[generated_features]\n",
    "test_logp= test_set[['hsdb_log_kow']]"
   ]
  },
  {
   "cell_type": "markdown",
   "metadata": {
    "slideshow": {
     "slide_type": "slide"
    }
   },
   "source": [
    "# Creating a linear model"
   ]
  },
  {
   "cell_type": "code",
   "execution_count": null,
   "metadata": {},
   "outputs": [],
   "source": [
    "linear= create_model(train_data, train_logp, test_data, test_logp, LinearRegression())"
   ]
  },
  {
   "cell_type": "markdown",
   "metadata": {
    "slideshow": {
     "slide_type": "slide"
    }
   },
   "source": [
    "# Creating a more complex linear model"
   ]
  },
  {
   "cell_type": "code",
   "execution_count": null,
   "metadata": {},
   "outputs": [],
   "source": [
    "ridge = create_model(train_data, train_logp, test_data, test_logp, Ridge(max_iter= 100, alpha=1))"
   ]
  },
  {
   "cell_type": "markdown",
   "metadata": {
    "slideshow": {
     "slide_type": "slide"
    }
   },
   "source": [
    "# Creating a non-linear model"
   ]
  },
  {
   "cell_type": "code",
   "execution_count": null,
   "metadata": {},
   "outputs": [],
   "source": [
    "gradient_boost= create_model(train_data, train_logp, test_data, test_logp, GradientBoostingRegressor(n_estimators=1000))"
   ]
  },
  {
   "cell_type": "markdown",
   "metadata": {},
   "source": [
    "# Create your own model"
   ]
  },
  {
   "cell_type": "markdown",
   "metadata": {},
   "source": [
    "### 1. Data"
   ]
  },
  {
   "cell_type": "raw",
   "metadata": {},
   "source": [
    "# train data\n",
    "train_data\n",
    "\n",
    "# target values\n",
    "train_logp\n",
    "\n",
    "\n",
    "# test data to assess the performance\n",
    "test_data\n",
    "\n",
    "# test target\n",
    "test_logp"
   ]
  },
  {
   "cell_type": "markdown",
   "metadata": {},
   "source": [
    "### 2. Algorithms"
   ]
  },
  {
   "cell_type": "raw",
   "metadata": {},
   "source": [
    "Ridge()\n",
    "LinearRegression()\n",
    "DecisionTreeRegressor()\n",
    "AdaBoostRegressor()\n",
    "GradientBoostingRegressor()\n",
    "SVR()\n",
    "RandomForestRegressor()"
   ]
  },
  {
   "cell_type": "markdown",
   "metadata": {},
   "source": [
    "### 3. Function to train the model"
   ]
  },
  {
   "cell_type": "raw",
   "metadata": {},
   "source": [
    "create_model(train_data, train_logp, test_data, test_logp, model)\n",
    "\n",
    "e.g.\n",
    "create_model(train_data, train_logp, test_data, test_logp, GradientBoostingRegressor())"
   ]
  },
  {
   "cell_type": "markdown",
   "metadata": {},
   "source": [
    "### 4. Train your model!"
   ]
  },
  {
   "cell_type": "code",
   "execution_count": null,
   "metadata": {},
   "outputs": [],
   "source": []
  },
  {
   "cell_type": "code",
   "execution_count": null,
   "metadata": {},
   "outputs": [],
   "source": []
  },
  {
   "cell_type": "code",
   "execution_count": null,
   "metadata": {},
   "outputs": [],
   "source": []
  },
  {
   "cell_type": "code",
   "execution_count": null,
   "metadata": {},
   "outputs": [],
   "source": []
  },
  {
   "cell_type": "code",
   "execution_count": null,
   "metadata": {},
   "outputs": [],
   "source": []
  },
  {
   "cell_type": "code",
   "execution_count": null,
   "metadata": {},
   "outputs": [],
   "source": []
  },
  {
   "cell_type": "code",
   "execution_count": null,
   "metadata": {},
   "outputs": [],
   "source": []
  },
  {
   "cell_type": "code",
   "execution_count": null,
   "metadata": {},
   "outputs": [],
   "source": []
  }
 ],
 "metadata": {
  "kernelspec": {
   "display_name": "Python 3",
   "language": "python",
   "name": "python3"
  },
  "language_info": {
   "codemirror_mode": {
    "name": "ipython",
    "version": 3
   },
   "file_extension": ".py",
   "mimetype": "text/x-python",
   "name": "python",
   "nbconvert_exporter": "python",
   "pygments_lexer": "ipython3",
   "version": "3.7.5"
  }
 },
 "nbformat": 4,
 "nbformat_minor": 4
}
